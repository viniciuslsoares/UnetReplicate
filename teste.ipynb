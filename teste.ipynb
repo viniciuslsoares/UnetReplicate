{
 "cells": [
  {
   "cell_type": "code",
   "execution_count": 28,
   "metadata": {},
   "outputs": [],
   "source": [
    "from train import train_model\n",
    "from evaluate import evaluate_model\n",
    "from datasets import BasicDataset\n",
    "from EfficientUnet import EfficientUnet\n",
    "from torch.utils.data import DataLoader\n",
    "import os\n",
    "\n",
    "import torch\n",
    "import logging"
   ]
  },
  {
   "cell_type": "code",
   "execution_count": 29,
   "metadata": {},
   "outputs": [],
   "source": [
    "model = EfficientUnet(n_channels=2, n_classes=6)"
   ]
  },
  {
   "cell_type": "code",
   "execution_count": 30,
   "metadata": {},
   "outputs": [],
   "source": [
    "train_dir = 'data/images/train'\n",
    "mask_dir = 'data/annotations/train'"
   ]
  },
  {
   "cell_type": "code",
   "execution_count": 31,
   "metadata": {},
   "outputs": [
    {
     "name": "stderr",
     "output_type": "stream",
     "text": [
      "100%|██████████| 992/992 [00:12<00:00, 81.23it/s] \n"
     ]
    }
   ],
   "source": [
    "dataset = BasicDataset(train_dir, mask_dir, False)\n",
    "loader_args = dict(batch_size = 1, num_workers = os.cpu_count(), pin_memory = True)     # Batch size = 1 por causa da janela\n",
    "val_loader = DataLoader(dataset, shuffle = False, drop_last=True, **loader_args)"
   ]
  },
  {
   "cell_type": "code",
   "execution_count": 32,
   "metadata": {},
   "outputs": [
    {
     "data": {
      "text/plain": [
       "{'image': tensor([[[[ 0.0000,  0.0000,  0.0000,  ...,  0.0000,  0.0000,  0.0000],\n",
       "           [ 0.0083,  0.0064,  0.0037,  ..., -0.0406, -0.0452, -0.0483],\n",
       "           [ 0.0501,  0.0474,  0.0280,  ..., -0.2344, -0.2549, -0.2700],\n",
       "           ...,\n",
       "           [ 0.2475,  0.1392,  0.1452,  ...,  0.0554,  0.0633,  0.0600],\n",
       "           [ 0.2475,  0.1392,  0.1452,  ...,  0.0554,  0.0633,  0.0600],\n",
       "           [ 0.2475,  0.1392,  0.1452,  ...,  0.0554,  0.0633,  0.0600]],\n",
       " \n",
       "          [[ 0.0000,  0.0000,  0.0000,  ...,  0.0000,  0.0000,  0.0000],\n",
       "           [ 0.0039,  0.0039,  0.0039,  ...,  0.0039,  0.0039,  0.0039],\n",
       "           [ 0.0079,  0.0079,  0.0079,  ...,  0.0079,  0.0079,  0.0079],\n",
       "           ...,\n",
       "           [ 0.9961,  0.9961,  0.9961,  ...,  0.9961,  0.9961,  0.9961],\n",
       "           [ 1.0000,  1.0000,  1.0000,  ...,  1.0000,  1.0000,  1.0000],\n",
       "           [ 1.0000,  1.0000,  1.0000,  ...,  1.0000,  1.0000,  1.0000]]]],\n",
       "        dtype=torch.float64),\n",
       " 'mask': tensor([[[[0, 0, 0,  ..., 0, 0, 0],\n",
       "           [0, 0, 0,  ..., 0, 0, 0],\n",
       "           [0, 0, 0,  ..., 0, 0, 0],\n",
       "           ...,\n",
       "           [4, 4, 4,  ..., 3, 3, 3],\n",
       "           [4, 4, 4,  ..., 3, 3, 3],\n",
       "           [4, 4, 4,  ..., 3, 3, 3]]]], dtype=torch.uint8)}"
      ]
     },
     "execution_count": 32,
     "metadata": {},
     "output_type": "execute_result"
    }
   ],
   "source": [
    "teste = next(iter(val_loader))\n",
    "teste\n"
   ]
  },
  {
   "cell_type": "code",
   "execution_count": 33,
   "metadata": {},
   "outputs": [
    {
     "data": {
      "text/plain": [
       "torch.Size([1, 256, 701])"
      ]
     },
     "execution_count": 33,
     "metadata": {},
     "output_type": "execute_result"
    }
   ],
   "source": [
    "image = teste['image'][:,0]\n",
    "image.shape"
   ]
  }
 ],
 "metadata": {
  "kernelspec": {
   "display_name": "Python 3",
   "language": "python",
   "name": "python3"
  },
  "language_info": {
   "codemirror_mode": {
    "name": "ipython",
    "version": 3
   },
   "file_extension": ".py",
   "mimetype": "text/x-python",
   "name": "python",
   "nbconvert_exporter": "python",
   "pygments_lexer": "ipython3",
   "version": "3.10.11"
  }
 },
 "nbformat": 4,
 "nbformat_minor": 2
}
