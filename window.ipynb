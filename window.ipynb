{
 "cells": [
  {
   "cell_type": "code",
   "execution_count": 2,
   "metadata": {},
   "outputs": [],
   "source": [
    "import math"
   ]
  },
  {
   "cell_type": "code",
   "execution_count": 27,
   "metadata": {},
   "outputs": [
    {
     "name": "stdout",
     "output_type": "stream",
     "text": [
      "256 701 829\n"
     ]
    },
    {
     "data": {
      "text/plain": [
       "([((0, 0), (256, 256)),\n",
       "  ((32, 0), (288, 256)),\n",
       "  ((64, 0), (320, 256)),\n",
       "  ((96, 0), (352, 256)),\n",
       "  ((128, 0), (384, 256)),\n",
       "  ((160, 0), (416, 256)),\n",
       "  ((192, 0), (448, 256)),\n",
       "  ((224, 0), (480, 256)),\n",
       "  ((256, 0), (512, 256)),\n",
       "  ((288, 0), (544, 256)),\n",
       "  ((320, 0), (576, 256)),\n",
       "  ((352, 0), (608, 256)),\n",
       "  ((384, 0), (640, 256)),\n",
       "  ((416, 0), (672, 256))],\n",
       " 14)"
      ]
     },
     "execution_count": 27,
     "metadata": {},
     "output_type": "execute_result"
    }
   ],
   "source": [
    "def calculate_window_positions(image_width, image_height, window_size, step_size):\n",
    "    window_positions = []\n",
    "\n",
    "    # Calculate the number of passes in horizontal and vertical directions\n",
    "    horizontal_passes = math.floor((image_width - window_size) / step_size) + 1\n",
    "    vertical_passes = math.floor((image_height - window_size) / step_size) + 1\n",
    "\n",
    "    # Iterate over each pass\n",
    "    for i in range(vertical_passes):\n",
    "        for j in range(horizontal_passes):\n",
    "            # Calculate the initial position of the window\n",
    "            start_x = j * step_size\n",
    "            start_y = i * step_size\n",
    "\n",
    "            # Calculate the final position of the window\n",
    "            end_x = start_x + window_size\n",
    "            end_y = start_y + window_size\n",
    "\n",
    "            window_positions.append(((start_x, start_y), (end_x, end_y)))\n",
    "            # window_positions.append((start_x, start_y))\n",
    "\n",
    "    return window_positions\n",
    "\n",
    "# Example usage:\n",
    "# image_width = (128+701+128)\n",
    "image_width = 701\n",
    "image_height = 256\n",
    "window_size = 256\n",
    "step_size = 32\n",
    "\n",
    "window_positions = calculate_window_positions(image_width, image_height, window_size, step_size)\n",
    "# for i, (start, end) in enumerate(window_positions):\n",
    "    # print(f\"Pass {i+1}: Initial Position {start}, Final Position {end}\")\n",
    "\n",
    "print(image_height, image_width, 128+701)\n",
    "window_positions, len(window_positions)"
   ]
  },
  {
   "cell_type": "code",
   "execution_count": null,
   "metadata": {},
   "outputs": [],
   "source": [
    "import numpy as np\n",
    "\n",
    "def rebuild_image(final_size, top_left_coords, images):\n",
    "    # Calculate the dimensions of the final image\n",
    "    final_height, final_width = final_size\n",
    "\n",
    "    # Create an empty array to store the final image\n",
    "    final_image = np.zeros((final_height, final_width))\n",
    "\n",
    "    # Iterate over each smaller image\n",
    "    for image, (x, y) in zip(images, top_left_coords):\n",
    "        # Calculate the dimensions of the smaller image\n",
    "        height, width = image.shape\n",
    "\n",
    "        # Calculate the coordinates of the overlapping region\n",
    "        x_start = max(0, x)\n",
    "        y_start = max(0, y)\n",
    "        x_end = min(final_width, x + width)\n",
    "        y_end = min(final_height, y + height)\n",
    "\n",
    "        # Calculate the dimensions of the overlapping region\n",
    "        overlap_width = x_end - x_start\n",
    "        overlap_height = y_end - y_start\n",
    "\n",
    "        # Calculate the coordinates of the overlapping region in the smaller image\n",
    "        x_start_image = x_start - x\n",
    "        y_start_image = y_start - y\n",
    "        x_end_image = x_start_image + overlap_width\n",
    "        y_end_image = y_start_image + overlap_height\n",
    "\n",
    "        # Calculate the average of the overlapping pixels\n",
    "        average = np.mean(image[y_start_image:y_end_image, x_start_image:x_end_image])\n",
    "\n",
    "        # Assign the average value to the corresponding region in the final image\n",
    "        final_image[y_start:y_end, x_start:x_end] = average\n",
    "\n",
    "    return final_image\n"
   ]
  },
  {
   "cell_type": "code",
   "execution_count": null,
   "metadata": {},
   "outputs": [],
   "source": []
  },
  {
   "cell_type": "code",
   "execution_count": null,
   "metadata": {},
   "outputs": [],
   "source": []
  }
 ],
 "metadata": {
  "kernelspec": {
   "display_name": "Python 3",
   "language": "python",
   "name": "python3"
  },
  "language_info": {
   "codemirror_mode": {
    "name": "ipython",
    "version": 3
   },
   "file_extension": ".py",
   "mimetype": "text/x-python",
   "name": "python",
   "nbconvert_exporter": "python",
   "pygments_lexer": "ipython3",
   "version": "3.10.11"
  }
 },
 "nbformat": 4,
 "nbformat_minor": 2
}
